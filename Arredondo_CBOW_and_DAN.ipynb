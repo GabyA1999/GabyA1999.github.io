{
  "nbformat": 4,
  "nbformat_minor": 0,
  "metadata": {
    "colab": {
      "name": "Arredondo_CBOW_and_DAN.ipynb",
      "provenance": [],
      "authorship_tag": "ABX9TyO5mRda4YLfjw3GtiY0y6MA",
      "include_colab_link": true
    },
    "kernelspec": {
      "name": "python3",
      "display_name": "Python 3"
    },
    "accelerator": "GPU"
  },
  "cells": [
    {
      "cell_type": "markdown",
      "metadata": {
        "id": "view-in-github",
        "colab_type": "text"
      },
      "source": [
        "<a href=\"https://colab.research.google.com/github/GabyA1999/GabyA1999.github.io/blob/master/Arredondo_CBOW_and_DAN.ipynb\" target=\"_parent\"><img src=\"https://colab.research.google.com/assets/colab-badge.svg\" alt=\"Open In Colab\"/></a>"
      ]
    },
    {
      "cell_type": "code",
      "metadata": {
        "id": "wePBr5XYECAN"
      },
      "source": [
        "import numpy as np\n",
        "np.random.seed(0)\n",
        "\n",
        "\n",
        "import torch \n",
        "torch.manual_seed(0)\n",
        "from torch import nn\n",
        "\n",
        "\n",
        "import torchtext\n",
        "\n",
        "from collections import defaultdict\n",
        "import time\n",
        "\n",
        "import matplotlib.pyplot as plt\n",
        "import pandas as pd\n",
        "\n",
        "\n",
        "# Just to make the plots look nice.\n",
        "%config InlineBackend.figure_format = 'retina' \n",
        "plt.style.use('seaborn')"
      ],
      "execution_count": null,
      "outputs": []
    },
    {
      "cell_type": "code",
      "metadata": {
        "id": "1cIW0Sa9-VwJ"
      },
      "source": [
        "files = './olid-training-v1.0.tsv'"
      ],
      "execution_count": null,
      "outputs": []
    },
    {
      "cell_type": "code",
      "metadata": {
        "id": "pHseMMwW_V-t"
      },
      "source": [
        "class CBoWTextClassifier(nn.Module):\n",
        "    \n",
        "    def __init__(self, text_field, class_field, emb_dim, dropout=0.5):\n",
        "        super().__init__()        \n",
        "        voc_size = len(text_field.vocab)\n",
        "        n_classes = len(class_field.vocab)  \n",
        "\n",
        "        # Embedding layer: we specify the vocabulary size and embedding dimensionality.        \n",
        "        self.embedding = nn.Embedding(voc_size, emb_dim)\n",
        "\n",
        "        # A linear output layer.\n",
        "        self.top_layer = nn.Linear(emb_dim, n_classes)\n",
        "\n",
        "        # A dropout layer to regularize the model.\n",
        "        self.dropout = nn.Dropout(dropout)\n",
        "    \n",
        "    def forward(self, docs):\n",
        "        # The words in the documents are encoded as integers. The shape of the documents\n",
        "        # tensor is (max_len, n_docs), where n_docs is the number of documents in this batch,\n",
        "        # and max_len is the maximal length of a document in the batch.\n",
        "\n",
        "        # First look up the embeddings for all the words in the documents.\n",
        "        # The shape is now (max_len, n_docs, emb_dim).\n",
        "        embedded = self.embedding(docs)\n",
        "\n",
        "        # Compute the mean of word embeddings over the documents.\n",
        "        # The shape is now (n_docs, emb_dim)\n",
        "        cbow = embedded.mean(dim=0)\n",
        "\n",
        "        # Apply the dropout layer. (This is only used during training, not during testing.)\n",
        "        cbow_drop = self.dropout(cbow)\n",
        "\n",
        "        # Finally, compute the output scores.\n",
        "        scores = self.top_layer(cbow_drop)\n",
        "\n",
        "        return scores"
      ],
      "execution_count": null,
      "outputs": []
    },
    {
      "cell_type": "markdown",
      "metadata": {
        "id": "r3WPKN1WAH4I"
      },
      "source": [
        "DAN MODEL\n",
        "Hidden Layer ->"
      ]
    },
    {
      "cell_type": "code",
      "metadata": {
        "id": "78qbMaK3_3d0"
      },
      "source": [
        "class CBoWTextClassifier2(torch.nn.Module):\n",
        "    \n",
        "    def __init__(self, text_field, class_field, emb_dim, n_hidden=10, dropout=0.5):\n",
        "        super().__init__()        \n",
        "        voc_size = len(text_field.vocab)\n",
        "        n_classes = len(class_field.vocab)       \n",
        "        self.embedding = nn.Embedding(voc_size, emb_dim)\n",
        "        self.hidden_layer = nn.Linear(emb_dim, n_hidden)\n",
        "        self.top_layer = nn.Linear(n_hidden, n_classes)\n",
        "        self.dropout = nn.Dropout(dropout)\n",
        "    \n",
        "    def forward(self, texts):\n",
        "        embedded = self.embedding(texts)\n",
        "        cbow = embedded.mean(dim=0)\n",
        "        cbow_drop = self.dropout(cbow)\n",
        "        hidden = torch.relu(self.hidden_layer(cbow_drop))\n",
        "        scores = self.top_layer(hidden)\n",
        "        return scores "
      ],
      "execution_count": null,
      "outputs": []
    },
    {
      "cell_type": "markdown",
      "metadata": {
        "id": "petRJTPBAjpX"
      },
      "source": [
        "Training text classifier"
      ]
    },
    {
      "cell_type": "code",
      "metadata": {
        "id": "BMKjsDFEAL8v"
      },
      "source": [
        "def read_data(corpus_file, datafields):\n",
        "    #with open(corpus_file, encoding='utf-8') as f:\n",
        "    df = pd.read_csv(files, sep='\\t')\n",
        "    examples = []\n",
        "    for ind, row in df.iterrows():\n",
        "        tweets = row[1]\n",
        "        offense_label = row[2]\n",
        "        examples.append(torchtext.data.Example.fromlist([tweets, offense_label], datafields))\n",
        "    return torchtext.data.Dataset(examples, datafields)"
      ],
      "execution_count": null,
      "outputs": []
    },
    {
      "cell_type": "code",
      "metadata": {
        "id": "3pRk69YxA1A8"
      },
      "source": [
        "def evaluate_validation(scores, loss_function, gold):\n",
        "    guesses = scores.argmax(dim=1)\n",
        "    n_correct = (guesses == gold).sum().item()\n",
        "    return n_correct, loss_function(scores, gold).item()"
      ],
      "execution_count": null,
      "outputs": []
    },
    {
      "cell_type": "code",
      "metadata": {
        "id": "kPbsX30WA6YR"
      },
      "source": [
        "def main():\n",
        "    \n",
        "    # We first declare the fields of the dataset: one field for the text, and one for the output label.\n",
        "    # For the text field, we also provide a tokenizer.\n",
        "    # In this case, we can use a simple tokenizer since the text is already tokenized in the file.\n",
        "    TEXT = torchtext.data.Field(sequential=True, tokenize=lambda x: x.split())\n",
        "    LABEL = torchtext.data.LabelField(is_target=True)\n",
        "    datafields = [('text', TEXT), ('label', LABEL)]\n",
        "\n",
        "    # By default, we'll do sentiment classification using the Amazon dataset.\n",
        "    # If you want to use the AG corpus instead of the Amazon dataset, change this flag.\n",
        "\n",
        "    data = read_data(files, datafields)\n",
        "    train, valid = data.split([0.85, 0.15])\n",
        "\n",
        "    # Build vocabularies from the dataset.\n",
        "    TEXT.build_vocab(train, max_size=10000)\n",
        "    LABEL.build_vocab(train)\n",
        "    \n",
        "    # Declare the model. We'll use the shallow CBoW classifier or the one that has one hidden layer.\n",
        "    model = CBoWTextClassifier(TEXT, LABEL, emb_dim=16)   \n",
        "    #model = CBoWTextClassifier2(TEXT, LABEL, emb_dim=16)\n",
        "    \n",
        "    # Put the model on the device.\n",
        "    device = 'cuda'\n",
        "    model.to(device)\n",
        "    \n",
        "    # The BucketIterator groups sentences of similar lengths into \"buckets\", which reduces the need\n",
        "    # for padding when we create minibatches.\n",
        "    # See here: https://pytorch.org/text/data.html#torchtext.data.BucketIterator\n",
        "    train_iterator = torchtext.data.BucketIterator(\n",
        "        train,\n",
        "        device=device,\n",
        "        batch_size=128,\n",
        "        sort_key=lambda x: len(x.text),\n",
        "        repeat=False,\n",
        "        train=True)\n",
        "    \n",
        "    valid_iterator = torchtext.data.Iterator(\n",
        "        valid,\n",
        "        device=device,\n",
        "        batch_size=128,\n",
        "        repeat=False,\n",
        "        train=False,\n",
        "        sort=False)\n",
        "\n",
        "    # Cross-entropy loss as usual, since we have a classification problem.\n",
        "    loss_function = torch.nn.CrossEntropyLoss()\n",
        "    \n",
        "    # Adam optimizer. We can try to tune the learning rate to get a fast convergence while avoiding instability.\n",
        "    optimizer = torch.optim.Adam(model.parameters(), lr=0.001)\n",
        "\n",
        "    # To speed up training, we'll put all the batches onto the GPU. This will avoid repeating\n",
        "    # the preprocessing of the batches as well as the GPU communication overhead.\n",
        "    # We can do this because the dataset is not that big so that it fits in the GPU memory.\n",
        "    # Torchtext will handle all administration: mapping text to integers and putting everything into tensors.\n",
        "    train_batches = list(train_iterator)\n",
        "    valid_batches = list(valid_iterator)\n",
        "\n",
        "    # We'll keep track of some indicators and plot them in the end.\n",
        "    history = defaultdict(list)\n",
        "    \n",
        "    #looping through training \n",
        "    for i in range(200): \n",
        "        \n",
        "        t0 = time.time()\n",
        "        \n",
        "        loss_sum = 0\n",
        "        n_batches = 0\n",
        "\n",
        "        # Calling model.train() will enable the dropout layers.\n",
        "        model.train()\n",
        "        \n",
        "        # We iterate through the batches created by torchtext.\n",
        "        # For each batch, we can access the text part and the output label part separately.\n",
        "        for batch in train_batches:\n",
        "            \n",
        "            # Compute the output scores.\n",
        "            scores = model(batch.text)\n",
        "            # Then the loss function.\n",
        "            loss = loss_function(scores, batch.label)\n",
        "\n",
        "            # Compute the gradient with respect to the loss, and update the parameters of the model.\n",
        "            optimizer.zero_grad()            \n",
        "            loss.backward()\n",
        "            optimizer.step()\n",
        "    \n",
        "            loss_sum += loss.item()\n",
        "            n_batches += 1\n",
        "        \n",
        "        train_loss = loss_sum / n_batches\n",
        "        history['train_loss'].append(train_loss)\n",
        "        \n",
        "        # After each training epoch, we'll compute the loss and accuracy on the validation set.\n",
        "        n_correct = 0\n",
        "        n_valid = len(valid)\n",
        "        loss_sum = 0\n",
        "        n_batches = 0\n",
        "\n",
        "        # Calling model.train() will disable the dropout layers.\n",
        "        model.eval()\n",
        "        \n",
        "        for batch in valid_batches:\n",
        "            scores = model(batch.text)\n",
        "            n_corr_batch, loss_batch = evaluate_validation(scores, loss_function, batch.label)\n",
        "            loss_sum += loss_batch\n",
        "            n_correct += n_corr_batch\n",
        "            n_batches += 1\n",
        "        val_acc = n_correct / n_valid\n",
        "        val_loss = loss_sum / n_batches\n",
        "\n",
        "        history['val_loss'].append(val_loss)\n",
        "        history['val_acc'].append(val_acc)        \n",
        "        \n",
        "        t1 = time.time()\n",
        "\n",
        "        if (i+1) % 10 == 0:\n",
        "            \n",
        "            print(f'Epoch {i+1}: train loss = {train_loss:.4f}, val loss = {val_loss:.4f}, val acc: {val_acc:.4f}, time = {t1-t0:.4f}')\n",
        "\n",
        "    plt.plot(history['train_loss'])\n",
        "    plt.plot(history['val_loss'])\n",
        "    plt.plot(history['val_acc'])\n",
        "    plt.legend(['training loss', 'validation loss', 'validation accuracy'])"
      ],
      "execution_count": null,
      "outputs": []
    },
    {
      "cell_type": "code",
      "metadata": {
        "id": "ZZnSg2zGBAP-",
        "outputId": "501efe34-5060-474c-a454-865f21f61a99",
        "colab": {
          "base_uri": "https://localhost:8080/",
          "height": 686
        }
      },
      "source": [
        "#main()\n",
        "\n",
        "text_file = open(\"cbow_and_dan_out.txt\", \"a\")\n",
        "text_file.write(str(main()))    \n",
        "text_file.close()\n",
        "\n"
      ],
      "execution_count": null,
      "outputs": [
        {
          "output_type": "stream",
          "text": [
            "Epoch 10: train loss = 0.6335, val loss = 0.6348, val acc: 0.6667, time = 0.1696\n",
            "Epoch 20: train loss = 0.6239, val loss = 0.6291, val acc: 0.6667, time = 0.1700\n",
            "Epoch 30: train loss = 0.6070, val loss = 0.6203, val acc: 0.6722, time = 0.1746\n",
            "Epoch 40: train loss = 0.5763, val loss = 0.6064, val acc: 0.6777, time = 0.1694\n",
            "Epoch 50: train loss = 0.5413, val loss = 0.5915, val acc: 0.6898, time = 0.1783\n",
            "Epoch 60: train loss = 0.4963, val loss = 0.5800, val acc: 0.7100, time = 0.1765\n",
            "Epoch 70: train loss = 0.4509, val loss = 0.5767, val acc: 0.7115, time = 0.1781\n",
            "Epoch 80: train loss = 0.4139, val loss = 0.5827, val acc: 0.7185, time = 0.1699\n",
            "Epoch 90: train loss = 0.3785, val loss = 0.5965, val acc: 0.7155, time = 0.1684\n",
            "Epoch 100: train loss = 0.3537, val loss = 0.6172, val acc: 0.7185, time = 0.1777\n",
            "Epoch 110: train loss = 0.3242, val loss = 0.6435, val acc: 0.7205, time = 0.1727\n",
            "Epoch 120: train loss = 0.3046, val loss = 0.6749, val acc: 0.7205, time = 0.1698\n",
            "Epoch 130: train loss = 0.2828, val loss = 0.7109, val acc: 0.7226, time = 0.1700\n",
            "Epoch 140: train loss = 0.2588, val loss = 0.7491, val acc: 0.7175, time = 0.1730\n",
            "Epoch 150: train loss = 0.2479, val loss = 0.7922, val acc: 0.7150, time = 0.1776\n",
            "Epoch 160: train loss = 0.2325, val loss = 0.8364, val acc: 0.7130, time = 0.1809\n",
            "Epoch 170: train loss = 0.2171, val loss = 0.8830, val acc: 0.7115, time = 0.1769\n",
            "Epoch 180: train loss = 0.2106, val loss = 0.9346, val acc: 0.7115, time = 0.1876\n",
            "Epoch 190: train loss = 0.1937, val loss = 0.9847, val acc: 0.7115, time = 0.1915\n",
            "Epoch 200: train loss = 0.1836, val loss = 1.0379, val acc: 0.7140, time = 0.1953\n"
          ],
          "name": "stdout"
        },
        {
          "output_type": "display_data",
          "data": {
            "image/png": "[encoded data removed]",
            "text/plain": [
              "<Figure size 576x396 with 1 Axes>"
            ]
          },
          "metadata": {
            "tags": [],
            "image/png": {
              "width": 481,
              "height": 329
            }
          }
        }
      ]
    },
    {
      "cell_type": "code",
      "metadata": {
        "id": "NZhW8-LCIIeL"
      },
      "source": [
        "import pandas as pd"
      ],
      "execution_count": null,
      "outputs": []
    },
    {
      "cell_type": "code",
      "metadata": {
        "id": "IK00whPIaXvf"
      },
      "source": [
        "df = pd.read_csv(\"olid-training-v1.0.tsv\", sep=\"\\t\")"
      ],
      "execution_count": null,
      "outputs": []
    },
    {
      "cell_type": "code",
      "metadata": {
        "id": "dQkSz7DkadOS",
        "outputId": "0d26c78e-3542-41be-b97f-39bc6a26defb",
        "colab": {
          "base_uri": "https://localhost:8080/",
          "height": 34
        }
      },
      "source": [
        "df.keys()"
      ],
      "execution_count": null,
      "outputs": [
        {
          "output_type": "execute_result",
          "data": {
            "text/plain": [
              "Index(['id', 'tweet', 'subtask_a', 'subtask_b', 'subtask_c'], dtype='object')"
            ]
          },
          "metadata": {
            "tags": []
          },
          "execution_count": 14
        }
      ]
    },
    {
      "cell_type": "code",
      "metadata": {
        "id": "6EHId35qaexd"
      },
      "source": [
        "for ind, row in df.iterrows():\n",
        "  row = row\n",
        "  "
      ],
      "execution_count": null,
      "outputs": []
    },
    {
      "cell_type": "code",
      "metadata": {
        "id": "bQCtE-vtas-G",
        "outputId": "6a12b6f0-0cb8-4c19-a70b-ae430197228e",
        "colab": {
          "base_uri": "https://localhost:8080/",
          "height": 119
        }
      },
      "source": [
        "row"
      ],
      "execution_count": null,
      "outputs": [
        {
          "output_type": "execute_result",
          "data": {
            "text/plain": [
              "id                                                       46552\n",
              "tweet        #Spanishrevenge vs. #justice #HumanRights and ...\n",
              "subtask_a                                                  NOT\n",
              "subtask_b                                                  NaN\n",
              "subtask_c                                                  NaN\n",
              "Name: 13239, dtype: object"
            ]
          },
          "metadata": {
            "tags": []
          },
          "execution_count": 16
        }
      ]
    },
    {
      "cell_type": "code",
      "metadata": {
        "id": "1IRx4Aoyatcj",
        "outputId": "369f66c6-960f-43ba-b991-f77c416b01cc",
        "colab": {
          "base_uri": "https://localhost:8080/",
          "height": 71
        }
      },
      "source": [
        "row['tweet'], row['subtask_a'] "
      ],
      "execution_count": null,
      "outputs": [
        {
          "output_type": "execute_result",
          "data": {
            "text/plain": [
              "('#Spanishrevenge vs. #justice #HumanRights and #FreedomOfExpression #Spain is a  #fakedemocracy @USER @USER @USER @USER @USER @USER @USER @USER @USER @USER @USER @USER @USER @USER @USER #cddr #shameonSpain #WakeupEurope @USER URL',\n",
              " 'NOT')"
            ]
          },
          "metadata": {
            "tags": []
          },
          "execution_count": 18
        }
      ]
    },
    {
      "cell_type": "code",
      "metadata": {
        "id": "Ca-8iz8naveR",
        "outputId": "b48e40ed-f582-4b73-d033-eedb8752eed6",
        "colab": {
          "base_uri": "https://localhost:8080/",
          "height": 34
        }
      },
      "source": [
        "df.keys()"
      ],
      "execution_count": null,
      "outputs": [
        {
          "output_type": "execute_result",
          "data": {
            "text/plain": [
              "Index(['id', 'tweet', 'subtask_a', 'subtask_b', 'subtask_c'], dtype='object')"
            ]
          },
          "metadata": {
            "tags": []
          },
          "execution_count": 19
        }
      ]
    },
    {
      "cell_type": "code",
      "metadata": {
        "id": "5CzhlKdUbF-8",
        "outputId": "5153df4b-35d0-4841-80db-718729cd382b",
        "colab": {
          "base_uri": "https://localhost:8080/",
          "height": 221
        }
      },
      "source": [
        "df['tweet']"
      ],
      "execution_count": null,
      "outputs": [
        {
          "output_type": "execute_result",
          "data": {
            "text/plain": [
              "0        @USER She should ask a few native Americans wh...\n",
              "1        @USER @USER Go home you’re drunk!!! @USER #MAG...\n",
              "2        Amazon is investigating Chinese employees who ...\n",
              "3        @USER Someone should'veTaken\" this piece of sh...\n",
              "4        @USER @USER Obama wanted liberals &amp; illega...\n",
              "                               ...                        \n",
              "13235    @USER Sometimes I get strong vibes from people...\n",
              "13236    Benidorm ✅  Creamfields ✅  Maga ✅   Not too sh...\n",
              "13237    @USER And why report this garbage.  We don't g...\n",
              "13238                                          @USER Pussy\n",
              "13239    #Spanishrevenge vs. #justice #HumanRights and ...\n",
              "Name: tweet, Length: 13240, dtype: object"
            ]
          },
          "metadata": {
            "tags": []
          },
          "execution_count": 20
        }
      ]
    },
    {
      "cell_type": "code",
      "metadata": {
        "id": "dlZnHmzPbH76",
        "outputId": "bac0a1ba-d9ff-477c-b010-241bdd0b7c08",
        "colab": {
          "base_uri": "https://localhost:8080/",
          "height": 204
        }
      },
      "source": [
        "df.sample(5)"
      ],
      "execution_count": null,
      "outputs": [
        {
          "output_type": "execute_result",
          "data": {
            "text/html": [
              "<div>\n",
              "<style scoped>\n",
              "    .dataframe tbody tr th:only-of-type {\n",
              "        vertical-align: middle;\n",
              "    }\n",
              "\n",
              "    .dataframe tbody tr th {\n",
              "        vertical-align: top;\n",
              "    }\n",
              "\n",
              "    .dataframe thead th {\n",
              "        text-align: right;\n",
              "    }\n",
              "</style>\n",
              "<table border=\"1\" class=\"dataframe\">\n",
              "  <thead>\n",
              "    <tr style=\"text-align: right;\">\n",
              "      <th></th>\n",
              "      <th>id</th>\n",
              "      <th>tweet</th>\n",
              "      <th>subtask_a</th>\n",
              "      <th>subtask_b</th>\n",
              "      <th>subtask_c</th>\n",
              "    </tr>\n",
              "  </thead>\n",
              "  <tbody>\n",
              "    <tr>\n",
              "      <th>12823</th>\n",
              "      <td>16623</td>\n",
              "      <td>@USER Good! #Antifa is violent fascism.</td>\n",
              "      <td>NOT</td>\n",
              "      <td>NaN</td>\n",
              "      <td>NaN</td>\n",
              "    </tr>\n",
              "    <tr>\n",
              "      <th>12290</th>\n",
              "      <td>94731</td>\n",
              "      <td>@USER It has been being de-created slowly and ...</td>\n",
              "      <td>NOT</td>\n",
              "      <td>NaN</td>\n",
              "      <td>NaN</td>\n",
              "    </tr>\n",
              "    <tr>\n",
              "      <th>8474</th>\n",
              "      <td>69998</td>\n",
              "      <td>* Christian Kabasele reveals the secrets behin...</td>\n",
              "      <td>NOT</td>\n",
              "      <td>NaN</td>\n",
              "      <td>NaN</td>\n",
              "    </tr>\n",
              "    <tr>\n",
              "      <th>4676</th>\n",
              "      <td>43647</td>\n",
              "      <td>@USER @USER @USER @USER @USER @USER @USER @USE...</td>\n",
              "      <td>NOT</td>\n",
              "      <td>NaN</td>\n",
              "      <td>NaN</td>\n",
              "    </tr>\n",
              "    <tr>\n",
              "      <th>397</th>\n",
              "      <td>58548</td>\n",
              "      <td>@USER @USER Wonder if he apologized to Diamond...</td>\n",
              "      <td>OFF</td>\n",
              "      <td>TIN</td>\n",
              "      <td>IND</td>\n",
              "    </tr>\n",
              "  </tbody>\n",
              "</table>\n",
              "</div>"
            ],
            "text/plain": [
              "          id  ... subtask_c\n",
              "12823  16623  ...       NaN\n",
              "12290  94731  ...       NaN\n",
              "8474   69998  ...       NaN\n",
              "4676   43647  ...       NaN\n",
              "397    58548  ...       IND\n",
              "\n",
              "[5 rows x 5 columns]"
            ]
          },
          "metadata": {
            "tags": []
          },
          "execution_count": 21
        }
      ]
    },
    {
      "cell_type": "code",
      "metadata": {
        "id": "zVad0erJbYcN",
        "outputId": "859dcf0d-8353-446e-e9ec-7ca65fac6efc",
        "colab": {
          "base_uri": "https://localhost:8080/",
          "height": 34
        }
      },
      "source": [
        "sum(df['id'])\n",
        "sum(df'')"
      ],
      "execution_count": null,
      "outputs": [
        {
          "output_type": "execute_result",
          "data": {
            "text/plain": [
              "726634584"
            ]
          },
          "metadata": {
            "tags": []
          },
          "execution_count": 22
        }
      ]
    },
    {
      "cell_type": "code",
      "metadata": {
        "id": "1S9Kig3ibimR",
        "outputId": "38b4f925-4173-40f4-e681-8b9f330f44a0",
        "colab": {
          "base_uri": "https://localhost:8080/",
          "height": 215
        }
      },
      "source": [
        "[sum(df[key]) for key in df.keys()]"
      ],
      "execution_count": null,
      "outputs": [
        {
          "output_type": "error",
          "ename": "TypeError",
          "evalue": "ignored",
          "traceback": [
            "\u001b[0;31m---------------------------------------------------------------------------\u001b[0m",
            "\u001b[0;31mTypeError\u001b[0m                                 Traceback (most recent call last)",
            "\u001b[0;32m<ipython-input-23-7c9d06bf6cd5>\u001b[0m in \u001b[0;36m<module>\u001b[0;34m()\u001b[0m\n\u001b[0;32m----> 1\u001b[0;31m \u001b[0;34m[\u001b[0m\u001b[0msum\u001b[0m\u001b[0;34m(\u001b[0m\u001b[0mdf\u001b[0m\u001b[0;34m[\u001b[0m\u001b[0mkey\u001b[0m\u001b[0;34m]\u001b[0m\u001b[0;34m)\u001b[0m \u001b[0;32mfor\u001b[0m \u001b[0mkey\u001b[0m \u001b[0;32min\u001b[0m \u001b[0mdf\u001b[0m\u001b[0;34m.\u001b[0m\u001b[0mkeys\u001b[0m\u001b[0;34m(\u001b[0m\u001b[0;34m)\u001b[0m\u001b[0;34m]\u001b[0m\u001b[0;34m\u001b[0m\u001b[0;34m\u001b[0m\u001b[0m\n\u001b[0m",
            "\u001b[0;32m<ipython-input-23-7c9d06bf6cd5>\u001b[0m in \u001b[0;36m<listcomp>\u001b[0;34m(.0)\u001b[0m\n\u001b[0;32m----> 1\u001b[0;31m \u001b[0;34m[\u001b[0m\u001b[0msum\u001b[0m\u001b[0;34m(\u001b[0m\u001b[0mdf\u001b[0m\u001b[0;34m[\u001b[0m\u001b[0mkey\u001b[0m\u001b[0;34m]\u001b[0m\u001b[0;34m)\u001b[0m \u001b[0;32mfor\u001b[0m \u001b[0mkey\u001b[0m \u001b[0;32min\u001b[0m \u001b[0mdf\u001b[0m\u001b[0;34m.\u001b[0m\u001b[0mkeys\u001b[0m\u001b[0;34m(\u001b[0m\u001b[0;34m)\u001b[0m\u001b[0;34m]\u001b[0m\u001b[0;34m\u001b[0m\u001b[0;34m\u001b[0m\u001b[0m\n\u001b[0m",
            "\u001b[0;31mTypeError\u001b[0m: unsupported operand type(s) for +: 'int' and 'str'"
          ]
        }
      ]
    },
    {
      "cell_type": "code",
      "metadata": {
        "id": "W48jE8o2bt83",
        "outputId": "8bc263ee-7054-407a-a1db-96752a2e1803",
        "colab": {
          "base_uri": "https://localhost:8080/",
          "height": 221
        }
      },
      "source": [
        "df['tweet'].map(lambda x: x.replace(\"@USER\", ''))"
      ],
      "execution_count": null,
      "outputs": [
        {
          "output_type": "execute_result",
          "data": {
            "text/plain": [
              "0         She should ask a few native Americans what th...\n",
              "1          Go home you’re drunk!!!  #MAGA #Trump2020 👊🇺...\n",
              "2        Amazon is investigating Chinese employees who ...\n",
              "3         Someone should'veTaken\" this piece of shit to...\n",
              "4          Obama wanted liberals &amp; illegals to move...\n",
              "                               ...                        \n",
              "13235     Sometimes I get strong vibes from people and ...\n",
              "13236    Benidorm ✅  Creamfields ✅  Maga ✅   Not too sh...\n",
              "13237     And why report this garbage.  We don't give a...\n",
              "13238                                                Pussy\n",
              "13239    #Spanishrevenge vs. #justice #HumanRights and ...\n",
              "Name: tweet, Length: 13240, dtype: object"
            ]
          },
          "metadata": {
            "tags": []
          },
          "execution_count": 25
        }
      ]
    },
    {
      "cell_type": "code",
      "metadata": {
        "id": "eUqzPW51cA7F",
        "outputId": "4ad470c8-0450-4326-8ed6-99ef86a27e19",
        "colab": {
          "base_uri": "https://localhost:8080/",
          "height": 102
        }
      },
      "source": [
        "df['subtask_a'].describe()"
      ],
      "execution_count": null,
      "outputs": [
        {
          "output_type": "execute_result",
          "data": {
            "text/plain": [
              "count     13240\n",
              "unique        2\n",
              "top         NOT\n",
              "freq       8840\n",
              "Name: subtask_a, dtype: object"
            ]
          },
          "metadata": {
            "tags": []
          },
          "execution_count": 29
        }
      ]
    },
    {
      "cell_type": "code",
      "metadata": {
        "id": "9wBgj1cccLoD"
      },
      "source": [
        ""
      ],
      "execution_count": null,
      "outputs": []
    }
  ]
}